{
 "cells": [
  {
   "cell_type": "code",
   "execution_count": 15,
   "metadata": {},
   "outputs": [],
   "source": [
    "import numpy as np\n",
    "import matplotlib.pyplot as plt\n",
    "import pandas as pd"
   ]
  },
  {
   "cell_type": "markdown",
   "metadata": {},
   "source": [
    "## Line Regression"
   ]
  },
  {
   "cell_type": "code",
   "execution_count": null,
   "metadata": {},
   "outputs": [],
   "source": [
    "def linreg(X, Y):\n",
    "    \"\"\"\n",
    "    return a,b in solution to y = ax + b such that root mean square distance between trend line and original points is minimized\n",
    "    \"\"\"\n",
    "    N = len(X)\n",
    "    Sx = Sy = Sxx = Syy = Sxy = 0.0\n",
    "    for x, y in zip(X, Y):\n",
    "        Sx = Sx + x\n",
    "        Sy = Sy + y\n",
    "        Sxx = Sxx + x*x\n",
    "        Syy = Syy + y*y\n",
    "        Sxy = Sxy + x*y\n",
    "    det = Sxx * N - Sx * Sx\n",
    "    return (Sxy * N - Sy * Sx)/det, (Sxx * Sy - Sx * Sxy)/det\n",
    "\n",
    "\n",
    "x = [12, 34, 29, 38, 34, 51, 29, 34, 47, 34, 55, 94, 68, 81]\n",
    "a,b = linreg(range(len(x)),x)  #your x,y are switched from standard notation"
   ]
  },
  {
   "cell_type": "code",
   "execution_count": 10,
   "metadata": {},
   "outputs": [
    {
     "name": "stdout",
     "output_type": "stream",
     "text": [
      "4.325274725274725 17.6\n"
     ]
    }
   ],
   "source": [
    "print(a,b)"
   ]
  },
  {
   "cell_type": "markdown",
   "metadata": {},
   "source": [
    "## Экстрополяция"
   ]
  },
  {
   "cell_type": "code",
   "execution_count": 11,
   "metadata": {},
   "outputs": [],
   "source": [
    "extrapolatedtrendline=[a*index + b for index in range(20)] #replace 20 with desired trend length"
   ]
  },
  {
   "cell_type": "markdown",
   "metadata": {},
   "source": [
    "### предоставляет замечательную функцию соответствия полиномам, называемую polyfit . Вы можете использовать polyfit для подгонки данных по любой степени уравнения."
   ]
  },
  {
   "cell_type": "code",
   "execution_count": 26,
   "metadata": {},
   "outputs": [
    {
     "ename": "IndexError",
     "evalue": "tuple index out of range",
     "output_type": "error",
     "traceback": [
      "\u001b[1;31m---------------------------------------------------------------------------\u001b[0m",
      "\u001b[1;31mIndexError\u001b[0m                                Traceback (most recent call last)",
      "\u001b[1;32m<ipython-input-26-0048e4021486>\u001b[0m in \u001b[0;36m<module>\u001b[1;34m\u001b[0m\n\u001b[0;32m      4\u001b[0m \u001b[0mz\u001b[0m \u001b[1;33m=\u001b[0m \u001b[0mnp\u001b[0m\u001b[1;33m.\u001b[0m\u001b[0mpolyfit\u001b[0m\u001b[1;33m(\u001b[0m\u001b[0mx\u001b[0m\u001b[1;33m,\u001b[0m\u001b[0my\u001b[0m\u001b[1;33m,\u001b[0m\u001b[1;36m1\u001b[0m\u001b[1;33m)\u001b[0m\u001b[1;33m\u001b[0m\u001b[1;33m\u001b[0m\u001b[0m\n\u001b[0;32m      5\u001b[0m \u001b[1;31m#print( \"{0}x + {1}\".format(*z))\u001b[0m\u001b[1;33m\u001b[0m\u001b[1;33m\u001b[0m\u001b[1;33m\u001b[0m\u001b[0m\n\u001b[1;32m----> 6\u001b[1;33m \u001b[0mprint\u001b[0m \u001b[1;33m(\u001b[0m\u001b[1;34m\"{0}x^2 + {1}x + {2}\"\u001b[0m\u001b[1;33m.\u001b[0m\u001b[0mformat\u001b[0m\u001b[1;33m(\u001b[0m\u001b[1;33m*\u001b[0m\u001b[0mz\u001b[0m\u001b[1;33m)\u001b[0m\u001b[1;33m)\u001b[0m\u001b[1;33m\u001b[0m\u001b[1;33m\u001b[0m\u001b[0m\n\u001b[0m",
      "\u001b[1;31mIndexError\u001b[0m: tuple index out of range"
     ]
    }
   ],
   "source": [
    " data = [12, 34, 29, 38, 34, 51, 29, 34, 47, 34, 55, 94, 68, 81]\n",
    " x = np.arange(0,len(data))\n",
    " y=np.array(data)\n",
    " z = np.polyfit(x,y,1)\n",
    "print( \"{0}x + {1}\".format(*z))\n",
    "# Для квадрата\n",
    "#print (\"{0}x^2 + {1}x + {2}\".format(*z))\n"
   ]
  },
  {
   "cell_type": "code",
   "execution_count": 22,
   "metadata": {},
   "outputs": [
    {
     "data": {
      "text/plain": [
       "[<matplotlib.lines.Line2D at 0x112fa208>]"
      ]
     },
     "execution_count": 22,
     "metadata": {},
     "output_type": "execute_result"
    },
    {
     "data": {
      "image/png": "[encoded data removed]",
      "text/plain": [
       "<Figure size 432x288 with 1 Axes>"
      ]
     },
     "metadata": {
      "needs_background": "light"
     },
     "output_type": "display_data"
    }
   ],
   "source": [
    "plt.plot(z)\n",
    "#plt.plot(data)\n"
   ]
  },
  {
   "cell_type": "code",
   "execution_count": 30,
   "metadata": {},
   "outputs": [
    {
     "name": "stdout",
     "output_type": "stream",
     "text": [
      "17.600000 + 4.325275 * x\n"
     ]
    }
   ],
   "source": [
    "y = [12, 34, 29, 38, 34, 51, 29, 34, 47, 34, 55, 94, 68, 81]\n",
    "N = len(y)\n",
    "x = range(N)\n",
    "B = (sum(x[i] * y[i] for i in range(N)) - 1./N*sum(x)*sum(y)) / (sum(x[i]**2 for i in range(N)) - 1./N*sum(x)**2)\n",
    "A = 1.*sum(y)/N - B * 1.*sum(x)/N\n",
    "print(\"%f + %f * x\" % (A, B))"
   ]
  },
  {
   "cell_type": "code",
   "execution_count": 31,
   "metadata": {},
   "outputs": [
    {
     "name": "stdout",
     "output_type": "stream",
     "text": [
      "4.325274725274725\n"
     ]
    }
   ],
   "source": [
    "# Koeficient beta\n",
    "y = [12, 34, 29, 38, 34, 51, 29, 34, 47, 34, 55, 94, 68, 81]\n",
    "x = range(1,len(y)+1)\n",
    "\n",
    "def var(X):\n",
    "    S = 0.0\n",
    "    SS = 0.0\n",
    "    for x in X:\n",
    "        S += x\n",
    "        SS += x*x\n",
    "    xbar = S/float(len(X))\n",
    "    return (SS - len(X) * xbar * xbar) / (len(X) -1.0)\n",
    "\n",
    "def cov(X,Y):\n",
    "    n = len(X)\n",
    "    xbar = sum(X) / n\n",
    "    ybar = sum(Y) / n\n",
    "    return sum([(x-xbar)*(y-ybar) for x,y in zip(X,Y)])/(n-1)\n",
    "\n",
    "\n",
    "def beta(x,y):\n",
    "    return cov(x,y)/var(x)\n",
    "\n",
    "print(beta(x,y)) #4.34285714286"
   ]
  }
 ],
 "metadata": {
  "kernelspec": {
   "display_name": "Python 3",
   "language": "python",
   "name": "python3"
  },
  "language_info": {
   "codemirror_mode": {
    "name": "ipython",
    "version": 3
   },
   "file_extension": ".py",
   "mimetype": "text/x-python",
   "name": "python",
   "nbconvert_exporter": "python",
   "pygments_lexer": "ipython3",
   "version": "3.7.2"
  }
 },
 "nbformat": 4,
 "nbformat_minor": 2
}
